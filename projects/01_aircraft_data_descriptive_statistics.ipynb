#https://github.com/MicrosoftDocs/ml-basics/blob/master/challenges/01%20-%20Flights%20Challenge.ipynb
